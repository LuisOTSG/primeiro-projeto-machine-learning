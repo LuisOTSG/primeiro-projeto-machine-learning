{
 "cells": [
  {
   "cell_type": "markdown",
   "id": "f42d5f84",
   "metadata": {},
   "source": [
    "# Manutenção Preditiva\n",
    "Pergunta de Negócio: **Quais máquinas irão falhar e qual o tipo de falha?**"
   ]
  },
  {
   "cell_type": "markdown",
   "id": "79257a92",
   "metadata": {},
   "source": [
    "**Etapas**\n",
    "1. Manipular os dados\n",
    "2. Analisar os dados\n",
    "3. Desenvolver o modelo\n",
    "4. Criar um dashboard em Power BI"
   ]
  },
  {
   "cell_type": "markdown",
   "id": "e6b6e1e5",
   "metadata": {},
   "source": [
    "## Instalando e configurando as bibliotecas"
   ]
  },
  {
   "cell_type": "code",
   "execution_count": 1,
   "id": "82611825",
   "metadata": {},
   "outputs": [],
   "source": [
    "import pickle\n",
    "import pandas as pd\n",
    "import numpy as np\n",
    "import matplotlib.pyplot as plt\n",
    "import seaborn as sns"
   ]
  },
  {
   "cell_type": "code",
   "execution_count": 2,
   "id": "936e07e6",
   "metadata": {},
   "outputs": [],
   "source": [
    "# \n",
    "from sklearn.ensemble import RandomForestClassifier\n",
    "\n",
    "#\n",
    "from sklearn.neighbors import KNeighborsClassifier\n",
    "\n",
    "#\n",
    "from sklearn.metrics import roc_auc_score, confusion_matrix, plot_confusion_matrix"
   ]
  },
  {
   "cell_type": "markdown",
   "id": "060c626c",
   "metadata": {},
   "source": [
    "## Manipulação de dados"
   ]
  },
  {
   "cell_type": "code",
   "execution_count": 3,
   "id": "ef3f868d",
   "metadata": {},
   "outputs": [],
   "source": [
    "#\n",
    "df_treino = pd.read_csv('df_treino_2.csv')\n",
    "df_teste = pd.read_csv('df_teste_2.csv')\n",
    "\n",
    "#\n",
    "df_raw = pd.concat([df_treino, df_teste])"
   ]
  },
  {
   "cell_type": "code",
   "execution_count": 4,
   "id": "9c2b3718",
   "metadata": {},
   "outputs": [
    {
     "data": {
      "text/html": [
       "<div>\n",
       "<style scoped>\n",
       "    .dataframe tbody tr th:only-of-type {\n",
       "        vertical-align: middle;\n",
       "    }\n",
       "\n",
       "    .dataframe tbody tr th {\n",
       "        vertical-align: top;\n",
       "    }\n",
       "\n",
       "    .dataframe thead th {\n",
       "        text-align: right;\n",
       "    }\n",
       "</style>\n",
       "<table border=\"1\" class=\"dataframe\">\n",
       "  <thead>\n",
       "    <tr style=\"text-align: right;\">\n",
       "      <th></th>\n",
       "      <th>ID Produto</th>\n",
       "      <th>Qualidade</th>\n",
       "      <th>Temperatura ar [K]</th>\n",
       "      <th>Temperatura processo [K]</th>\n",
       "      <th>Velocidade rotação [rpm]</th>\n",
       "      <th>Torque [Nm]</th>\n",
       "      <th>Desgaste [min]</th>\n",
       "      <th>Falha</th>\n",
       "      <th>Tipo falha</th>\n",
       "    </tr>\n",
       "  </thead>\n",
       "  <tbody>\n",
       "    <tr>\n",
       "      <th>0</th>\n",
       "      <td>B57099</td>\n",
       "      <td>Baixa</td>\n",
       "      <td>298.5</td>\n",
       "      <td>308.8</td>\n",
       "      <td>1305.0</td>\n",
       "      <td>58.7</td>\n",
       "      <td>26.0</td>\n",
       "      <td>0.0</td>\n",
       "      <td>Sem falha</td>\n",
       "    </tr>\n",
       "    <tr>\n",
       "      <th>1</th>\n",
       "      <td>B50640</td>\n",
       "      <td>Baixa</td>\n",
       "      <td>301.5</td>\n",
       "      <td>310.3</td>\n",
       "      <td>1415.0</td>\n",
       "      <td>41.6</td>\n",
       "      <td>28.0</td>\n",
       "      <td>0.0</td>\n",
       "      <td>Sem falha</td>\n",
       "    </tr>\n",
       "    <tr>\n",
       "      <th>2</th>\n",
       "      <td>B55178</td>\n",
       "      <td>Baixa</td>\n",
       "      <td>300.9</td>\n",
       "      <td>312.1</td>\n",
       "      <td>1359.0</td>\n",
       "      <td>51.7</td>\n",
       "      <td>146.0</td>\n",
       "      <td>0.0</td>\n",
       "      <td>Sem falha</td>\n",
       "    </tr>\n",
       "    <tr>\n",
       "      <th>3</th>\n",
       "      <td>B51337</td>\n",
       "      <td>Baixa</td>\n",
       "      <td>302.0</td>\n",
       "      <td>310.5</td>\n",
       "      <td>1263.0</td>\n",
       "      <td>60.6</td>\n",
       "      <td>90.0</td>\n",
       "      <td>1.0</td>\n",
       "      <td>Superaquecimento</td>\n",
       "    </tr>\n",
       "    <tr>\n",
       "      <th>4</th>\n",
       "      <td>B56278</td>\n",
       "      <td>Baixa</td>\n",
       "      <td>297.3</td>\n",
       "      <td>308.1</td>\n",
       "      <td>1468.0</td>\n",
       "      <td>49.8</td>\n",
       "      <td>0.0</td>\n",
       "      <td>0.0</td>\n",
       "      <td>Sem falha</td>\n",
       "    </tr>\n",
       "  </tbody>\n",
       "</table>\n",
       "</div>"
      ],
      "text/plain": [
       "  ID Produto Qualidade  Temperatura ar [K]  Temperatura processo [K]  \\\n",
       "0     B57099     Baixa               298.5                     308.8   \n",
       "1     B50640     Baixa               301.5                     310.3   \n",
       "2     B55178     Baixa               300.9                     312.1   \n",
       "3     B51337     Baixa               302.0                     310.5   \n",
       "4     B56278     Baixa               297.3                     308.1   \n",
       "\n",
       "   Velocidade rotação [rpm]  Torque [Nm]  Desgaste [min]  Falha  \\\n",
       "0                    1305.0         58.7            26.0    0.0   \n",
       "1                    1415.0         41.6            28.0    0.0   \n",
       "2                    1359.0         51.7           146.0    0.0   \n",
       "3                    1263.0         60.6            90.0    1.0   \n",
       "4                    1468.0         49.8             0.0    0.0   \n",
       "\n",
       "         Tipo falha  \n",
       "0         Sem falha  \n",
       "1         Sem falha  \n",
       "2         Sem falha  \n",
       "3  Superaquecimento  \n",
       "4         Sem falha  "
      ]
     },
     "execution_count": 4,
     "metadata": {},
     "output_type": "execute_result"
    }
   ],
   "source": [
    "#\n",
    "df_raw.head()"
   ]
  },
  {
   "cell_type": "markdown",
   "id": "2eac628e",
   "metadata": {},
   "source": [
    "**Dicionário de variáveis**\n",
    "\n",
    "* *Qualidade*: nível de qualidade do equipamento\n",
    "* *Temperatura ar [K]*: temperatura do ar durante o processo\n",
    "* *Temperatura  processo [K]*: temperatura do processo\n",
    "* *Velocidade rotação [rpm]*: velocidade de rotação do maquinário\n",
    "* *Torque [Nm]*: torque do maquinário\n",
    "* *Desgaste [min]*: tempo de duração do processo\n",
    "* *Tipo falha*: qual o tipo de falha que o equipamento apresentou"
   ]
  },
  {
   "cell_type": "code",
   "execution_count": 5,
   "id": "8ae46b99",
   "metadata": {},
   "outputs": [
    {
     "name": "stdout",
     "output_type": "stream",
     "text": [
      "<class 'pandas.core.frame.DataFrame'>\n",
      "Int64Index: 9973 entries, 0 to 3291\n",
      "Data columns (total 9 columns):\n",
      " #   Column                    Non-Null Count  Dtype  \n",
      "---  ------                    --------------  -----  \n",
      " 0   ID Produto                9973 non-null   object \n",
      " 1   Qualidade                 9973 non-null   object \n",
      " 2   Temperatura ar [K]        9973 non-null   float64\n",
      " 3   Temperatura processo [K]  9973 non-null   float64\n",
      " 4   Velocidade rotação [rpm]  9973 non-null   float64\n",
      " 5   Torque [Nm]               9973 non-null   float64\n",
      " 6   Desgaste [min]            9973 non-null   float64\n",
      " 7   Falha                     9973 non-null   float64\n",
      " 8   Tipo falha                9973 non-null   object \n",
      "dtypes: float64(6), object(3)\n",
      "memory usage: 779.1+ KB\n"
     ]
    }
   ],
   "source": [
    "# Verificação de valores nulos no dataset\n",
    "df_raw.info()"
   ]
  },
  {
   "cell_type": "code",
   "execution_count": 6,
   "id": "6cbaaa70",
   "metadata": {},
   "outputs": [
    {
     "data": {
      "text/plain": [
       "0"
      ]
     },
     "execution_count": 6,
     "metadata": {},
     "output_type": "execute_result"
    }
   ],
   "source": [
    "# Verificação de linhas duplicadas no dataset\n",
    "df_raw.duplicated().sum()"
   ]
  },
  {
   "cell_type": "code",
   "execution_count": 7,
   "id": "4fab83c5",
   "metadata": {},
   "outputs": [
    {
     "data": {
      "text/html": [
       "<div>\n",
       "<style scoped>\n",
       "    .dataframe tbody tr th:only-of-type {\n",
       "        vertical-align: middle;\n",
       "    }\n",
       "\n",
       "    .dataframe tbody tr th {\n",
       "        vertical-align: top;\n",
       "    }\n",
       "\n",
       "    .dataframe thead th {\n",
       "        text-align: right;\n",
       "    }\n",
       "</style>\n",
       "<table border=\"1\" class=\"dataframe\">\n",
       "  <thead>\n",
       "    <tr style=\"text-align: right;\">\n",
       "      <th></th>\n",
       "      <th>Temperatura ar [K]</th>\n",
       "      <th>Temperatura processo [K]</th>\n",
       "      <th>Velocidade rotação [rpm]</th>\n",
       "      <th>Torque [Nm]</th>\n",
       "      <th>Desgaste [min]</th>\n",
       "      <th>Falha</th>\n",
       "    </tr>\n",
       "  </thead>\n",
       "  <tbody>\n",
       "    <tr>\n",
       "      <th>count</th>\n",
       "      <td>9973.000000</td>\n",
       "      <td>9973.000000</td>\n",
       "      <td>9973.000000</td>\n",
       "      <td>9973.000000</td>\n",
       "      <td>9973.000000</td>\n",
       "      <td>9973.000000</td>\n",
       "    </tr>\n",
       "    <tr>\n",
       "      <th>mean</th>\n",
       "      <td>300.003259</td>\n",
       "      <td>310.004031</td>\n",
       "      <td>1538.893212</td>\n",
       "      <td>39.978993</td>\n",
       "      <td>107.921087</td>\n",
       "      <td>0.033089</td>\n",
       "    </tr>\n",
       "    <tr>\n",
       "      <th>std</th>\n",
       "      <td>2.000548</td>\n",
       "      <td>1.483692</td>\n",
       "      <td>179.412171</td>\n",
       "      <td>9.966805</td>\n",
       "      <td>63.649152</td>\n",
       "      <td>0.178879</td>\n",
       "    </tr>\n",
       "    <tr>\n",
       "      <th>min</th>\n",
       "      <td>295.300000</td>\n",
       "      <td>305.700000</td>\n",
       "      <td>1168.000000</td>\n",
       "      <td>3.800000</td>\n",
       "      <td>0.000000</td>\n",
       "      <td>0.000000</td>\n",
       "    </tr>\n",
       "    <tr>\n",
       "      <th>25%</th>\n",
       "      <td>298.300000</td>\n",
       "      <td>308.800000</td>\n",
       "      <td>1423.000000</td>\n",
       "      <td>33.200000</td>\n",
       "      <td>53.000000</td>\n",
       "      <td>0.000000</td>\n",
       "    </tr>\n",
       "    <tr>\n",
       "      <th>50%</th>\n",
       "      <td>300.100000</td>\n",
       "      <td>310.100000</td>\n",
       "      <td>1503.000000</td>\n",
       "      <td>40.100000</td>\n",
       "      <td>108.000000</td>\n",
       "      <td>0.000000</td>\n",
       "    </tr>\n",
       "    <tr>\n",
       "      <th>75%</th>\n",
       "      <td>301.500000</td>\n",
       "      <td>311.100000</td>\n",
       "      <td>1612.000000</td>\n",
       "      <td>46.700000</td>\n",
       "      <td>162.000000</td>\n",
       "      <td>0.000000</td>\n",
       "    </tr>\n",
       "    <tr>\n",
       "      <th>max</th>\n",
       "      <td>304.500000</td>\n",
       "      <td>313.800000</td>\n",
       "      <td>2886.000000</td>\n",
       "      <td>76.600000</td>\n",
       "      <td>253.000000</td>\n",
       "      <td>1.000000</td>\n",
       "    </tr>\n",
       "  </tbody>\n",
       "</table>\n",
       "</div>"
      ],
      "text/plain": [
       "       Temperatura ar [K]  Temperatura processo [K]  Velocidade rotação [rpm]  \\\n",
       "count         9973.000000               9973.000000               9973.000000   \n",
       "mean           300.003259                310.004031               1538.893212   \n",
       "std              2.000548                  1.483692                179.412171   \n",
       "min            295.300000                305.700000               1168.000000   \n",
       "25%            298.300000                308.800000               1423.000000   \n",
       "50%            300.100000                310.100000               1503.000000   \n",
       "75%            301.500000                311.100000               1612.000000   \n",
       "max            304.500000                313.800000               2886.000000   \n",
       "\n",
       "       Torque [Nm]  Desgaste [min]        Falha  \n",
       "count  9973.000000     9973.000000  9973.000000  \n",
       "mean     39.978993      107.921087     0.033089  \n",
       "std       9.966805       63.649152     0.178879  \n",
       "min       3.800000        0.000000     0.000000  \n",
       "25%      33.200000       53.000000     0.000000  \n",
       "50%      40.100000      108.000000     0.000000  \n",
       "75%      46.700000      162.000000     0.000000  \n",
       "max      76.600000      253.000000     1.000000  "
      ]
     },
     "execution_count": 7,
     "metadata": {},
     "output_type": "execute_result"
    }
   ],
   "source": [
    "# Descrição estatística básica dos dados\n",
    "df_raw.describe()"
   ]
  },
  {
   "cell_type": "markdown",
   "id": "c45f8995",
   "metadata": {},
   "source": [
    "## Análise dos dados\n",
    "- Identificar padrões e correlações nos dados\n",
    "- Formular e validar hipóteses sobre o problema"
   ]
  },
  {
   "cell_type": "code",
   "execution_count": 8,
   "id": "e2b5d1e1",
   "metadata": {},
   "outputs": [],
   "source": [
    "# Fazendo um cópia do dataset para Análise Exploratória dos Dados (EDA)\n",
    "df_eda = df_treino.copy()"
   ]
  },
  {
   "cell_type": "markdown",
   "id": "b6575093",
   "metadata": {},
   "source": [
    "### Total de falhas e tipos de falhas"
   ]
  },
  {
   "cell_type": "code",
   "execution_count": 9,
   "id": "a8c8b507",
   "metadata": {},
   "outputs": [
    {
     "data": {
      "text/plain": [
       "Text(0.5, 1.0, 'Proporção Sem Falha x Com Falha')"
      ]
     },
     "execution_count": 9,
     "metadata": {},
     "output_type": "execute_result"
    },
    {
     "data": {
      "image/png": "[encoded data removed]",
      "text/plain": [
       "<Figure size 432x288 with 1 Axes>"
      ]
     },
     "metadata": {
      "needs_background": "light"
     },
     "output_type": "display_data"
    }
   ],
   "source": [
    "# Apresentação gráfica da proporção entre máquinas que falharam e que não falharam\n",
    "total_falhas = df_eda['Falha'].value_counts(normalize=True)\n",
    "\n",
    "plt.bar(x=total_falhas.index, height=total_falhas)\n",
    "plt.xticks([0,1],[\"Sem falha\", \"Com Falha\"])\n",
    "plt.ylabel(\"Total de Máquinas\")\n",
    "plt.title(\"Proporção Sem Falha x Com Falha\")"
   ]
  },
  {
   "cell_type": "code",
   "execution_count": 10,
   "id": "debeb98f",
   "metadata": {},
   "outputs": [
    {
     "data": {
      "text/plain": [
       "Text(0.5, 1.0, 'Frequência por Tipo de Falha')"
      ]
     },
     "execution_count": 10,
     "metadata": {},
     "output_type": "execute_result"
    },
    {
     "data": {
      "image/png": "[encoded data removed]",
      "text/plain": [
       "<Figure size 432x288 with 1 Axes>"
      ]
     },
     "metadata": {
      "needs_background": "light"
     },
     "output_type": "display_data"
    }
   ],
   "source": [
    "# Apresentação gráfica dos tipos de falhas e em que frequência ocorrem\n",
    "df_falhas = df_eda.loc[df_eda['Falha'] == 1]\n",
    "df_sem_falhas = df_eda.loc[df_eda['Falha'] == 0]\n",
    "\n",
    "tipo_falhas = df_falhas['Tipo falha'].value_counts(normalize=True)\n",
    "\n",
    "plt.barh(y=tipo_falhas.index, width=tipo_falhas)\n",
    "plt.ylabel(\"Tipo de Falha\")\n",
    "plt.title(\"Frequência por Tipo de Falha\")"
   ]
  },
  {
   "cell_type": "markdown",
   "id": "72f45ebc",
   "metadata": {},
   "source": [
    "### Relação entre falhas e qualidade do equipamento\n",
    "- As falhas acompanham a qualidade dos equipamentos?\n",
    "- Os componentes com baixa qualidade, são os que mais falham?\n",
    "\n",
    "Volume total e proporcionalmente"
   ]
  },
  {
   "cell_type": "code",
   "execution_count": 11,
   "id": "24a270c2",
   "metadata": {},
   "outputs": [
    {
     "data": {
      "text/html": [
       "<div>\n",
       "<style scoped>\n",
       "    .dataframe tbody tr th:only-of-type {\n",
       "        vertical-align: middle;\n",
       "    }\n",
       "\n",
       "    .dataframe tbody tr th {\n",
       "        vertical-align: top;\n",
       "    }\n",
       "\n",
       "    .dataframe thead th {\n",
       "        text-align: right;\n",
       "    }\n",
       "</style>\n",
       "<table border=\"1\" class=\"dataframe\">\n",
       "  <thead>\n",
       "    <tr style=\"text-align: right;\">\n",
       "      <th></th>\n",
       "      <th>sum</th>\n",
       "      <th>count</th>\n",
       "      <th>mean</th>\n",
       "    </tr>\n",
       "    <tr>\n",
       "      <th>Qualidade</th>\n",
       "      <th></th>\n",
       "      <th></th>\n",
       "      <th></th>\n",
       "    </tr>\n",
       "  </thead>\n",
       "  <tbody>\n",
       "    <tr>\n",
       "      <th>Alta</th>\n",
       "      <td>12.0</td>\n",
       "      <td>665</td>\n",
       "      <td>0.018045</td>\n",
       "    </tr>\n",
       "    <tr>\n",
       "      <th>Baixa</th>\n",
       "      <td>162.0</td>\n",
       "      <td>3979</td>\n",
       "      <td>0.040714</td>\n",
       "    </tr>\n",
       "    <tr>\n",
       "      <th>Média</th>\n",
       "      <td>52.0</td>\n",
       "      <td>2037</td>\n",
       "      <td>0.025528</td>\n",
       "    </tr>\n",
       "  </tbody>\n",
       "</table>\n",
       "</div>"
      ],
      "text/plain": [
       "             sum  count      mean\n",
       "Qualidade                        \n",
       "Alta        12.0    665  0.018045\n",
       "Baixa      162.0   3979  0.040714\n",
       "Média       52.0   2037  0.025528"
      ]
     },
     "execution_count": 11,
     "metadata": {},
     "output_type": "execute_result"
    }
   ],
   "source": [
    "#\n",
    "falha_qualidade = df_eda.groupby(\"Qualidade\")['Falha'].agg(['sum', 'count', 'mean'])\n",
    "falha_qualidade"
   ]
  },
  {
   "cell_type": "code",
   "execution_count": 12,
   "id": "1a17752b",
   "metadata": {},
   "outputs": [
    {
     "data": {
      "image/png": "[encoded data removed]",
      "text/plain": [
       "<Figure size 1152x360 with 3 Axes>"
      ]
     },
     "metadata": {
      "needs_background": "light"
     },
     "output_type": "display_data"
    }
   ],
   "source": [
    "# Total geral de componentes por qualidade\n",
    "ax = plt.figure(figsize=(16,5))\n",
    "ax = plt.subplot(1,3,1)\n",
    "ax = plt.pie(falha_qualidade['count'], labels=falha_qualidade.index, autopct=\"%.0f%%\")\n",
    "plt.title(\"Total Geral de Componentes por Qualidade\")\n",
    "\n",
    "# Total de falhas por tipo de componente - Volume total\n",
    "ax = plt.subplot(1,3,2)\n",
    "ax = plt.pie(falha_qualidade['sum'], labels=falha_qualidade.index, autopct=\"%.0f%%\")\n",
    "plt.title(\"Total de Falhas por Qualidade\")\n",
    "\n",
    "# Média de falhas por tipo de componente\n",
    "ax = plt.subplot(1,3,3)\n",
    "ax = plt.bar(x=falha_qualidade.index, height=falha_qualidade['mean'])\n",
    "plt.title(\"Média de Falhas por Qualidade\")\n",
    "\n",
    "plt.show()"
   ]
  },
  {
   "cell_type": "markdown",
   "id": "c96130d2",
   "metadata": {},
   "source": [
    "- As falhas acompanham a qualidade dos equipamentos?\n",
    "\n",
    "**Sim, a qualidade impacta na falha de um componente.**\n",
    "\n",
    "- Os componentes com baixa qualidade, são os que mais falham?\n",
    "\n",
    "**Sim, os componentes de baixa qualidade são os equipamentos que mais sofreram falhas.**"
   ]
  },
  {
   "cell_type": "markdown",
   "id": "10625f52",
   "metadata": {},
   "source": [
    "### Correlação entre variáveis\n",
    "- Existem variáveis relacionadas entre si?\n",
    "- Como elas se relacionam com a falha do equipamento?"
   ]
  },
  {
   "cell_type": "code",
   "execution_count": 13,
   "id": "75917398",
   "metadata": {},
   "outputs": [
    {
     "data": {
      "image/png": "[encoded data removed]",
      "text/plain": [
       "<Figure size 1152x432 with 2 Axes>"
      ]
     },
     "metadata": {
      "needs_background": "light"
     },
     "output_type": "display_data"
    }
   ],
   "source": [
    "#\n",
    "corr_falhas = df_eda.corr()\n",
    "\n",
    "# Apresentação gráfica da correlação entre as variáveis\n",
    "ax = plt.figure(figsize=(16,6))\n",
    "ax = plt.subplot(1,2,1)\n",
    "ax = sns.heatmap(corr_falhas, annot=True, cmap= \"Greens\")\n",
    "plt.title(\"Correlação entre as Variáveis\")\n",
    "\n",
    "plt.show()"
   ]
  },
  {
   "cell_type": "markdown",
   "id": "e0ef9e77",
   "metadata": {},
   "source": [
    "- Existem variáveis relacionadas entre si?\n",
    "\n",
    "**Sim, existe correlação entre algumas variáveis.**\n",
    "\n",
    "- Como elas se relacionam com a falha do equipamento?\n",
    "\n",
    "**Forte correção negativa entre as variáveis de: toruqe x velocidade de rotação e correlação positiva entre: temperatura do ar x temperatura do processo.**\n",
    "**Demais variáveis não possuem correlação aparente.**"
   ]
  },
  {
   "cell_type": "markdown",
   "id": "e786ba1d",
   "metadata": {},
   "source": [
    "### Temperatura\n",
    "- Equipamentos sujeitos a maiores temperaturas tem mais falhas?\n",
    "- Equipamentos que possuem maior diferença entre a temperatura do ar (ambiente) e temperatura de processo possuem mais falhas?"
   ]
  },
  {
   "cell_type": "code",
   "execution_count": 14,
   "id": "bc453c01",
   "metadata": {},
   "outputs": [
    {
     "name": "stderr",
     "output_type": "stream",
     "text": [
      "C:\\Users\\luis1\\AppData\\Local\\Temp/ipykernel_16324/1430274132.py:4: SettingWithCopyWarning: \n",
      "A value is trying to be set on a copy of a slice from a DataFrame.\n",
      "Try using .loc[row_indexer,col_indexer] = value instead\n",
      "\n",
      "See the caveats in the documentation: https://pandas.pydata.org/pandas-docs/stable/user_guide/indexing.html#returning-a-view-versus-a-copy\n",
      "  df_temp['Variação Temperatura'] = df_temp['Temperatura processo [K]'] - df_temp['Temperatura ar [K]']\n"
     ]
    }
   ],
   "source": [
    "df_temp = df_eda[['Temperatura ar [K]', 'Temperatura processo [K]', 'Falha']]\n",
    "\n",
    "# Criar coluna com valor da diferença entre as temperaturas (ar x processo)\n",
    "df_temp['Variação Temperatura'] = df_temp['Temperatura processo [K]'] - df_temp['Temperatura ar [K]'] \n",
    "\n",
    "#\n",
    "df_temp_falha = df_temp[df_temp['Falha'] == 1]\n",
    "df_temp_semfalha = df_temp[df_temp['Falha'] == 0]"
   ]
  },
  {
   "cell_type": "code",
   "execution_count": 15,
   "id": "bef7026b",
   "metadata": {},
   "outputs": [
    {
     "data": {
      "image/png": "[encoded data removed]",
      "text/plain": [
       "<Figure size 720x288 with 2 Axes>"
      ]
     },
     "metadata": {
      "needs_background": "light"
     },
     "output_type": "display_data"
    }
   ],
   "source": [
    "# Análise com base na temperatura do processo\n",
    "ax = plt.figure(figsize=(10,4))\n",
    "\n",
    "# Total de componentes sem falha\n",
    "ax = plt.subplot(1,2,1)\n",
    "ax = plt.hist(df_temp_semfalha['Temperatura processo [K]'])\n",
    "plt.xlabel(\"Temperatura processo [K]\")\n",
    "plt.ylabel(\"Quantidade Equipamentos\")\n",
    "plt.title(\"Temperatura de processo de Componentes Sem Falha\")\n",
    "\n",
    "# Média de falhas por componente\n",
    "ax = plt.subplot(1,2,2)\n",
    "ax = plt.hist(df_temp_falha['Temperatura processo [K]'])\n",
    "plt.xlabel(\"Temperatura processo [K]\")\n",
    "plt.ylabel(\"Quantidade Equipamentos\")\n",
    "plt.title(\"Temperatura de processo de Componentes Com Falha\")\n",
    "\n",
    "plt.show()"
   ]
  },
  {
   "cell_type": "code",
   "execution_count": 16,
   "id": "5815738a",
   "metadata": {},
   "outputs": [
    {
     "data": {
      "image/png": "[encoded data removed]",
      "text/plain": [
       "<Figure size 720x288 with 2 Axes>"
      ]
     },
     "metadata": {
      "needs_background": "light"
     },
     "output_type": "display_data"
    }
   ],
   "source": [
    "# Análise com base na temperatura do ambiente\n",
    "ax = plt.figure(figsize=(10,4))\n",
    "\n",
    "# Total de componentes sem falha\n",
    "ax = plt.subplot(1,2,1)\n",
    "ax = plt.hist(df_temp_semfalha['Temperatura ar [K]'])\n",
    "plt.xlabel(\"Temperatura ambiente [K]\")\n",
    "plt.ylabel(\"Quantidade Equipamentos\")\n",
    "plt.title(\"Temperatura do ambiente de Componentes Sem Falha\")\n",
    "\n",
    "# Média de falhas por componente\n",
    "ax = plt.subplot(1,2,2)\n",
    "ax = plt.hist(df_temp_falha['Temperatura ar [K]'])\n",
    "plt.xlabel(\"Temperatura ambiente [K]\")\n",
    "plt.ylabel(\"Quantidade Equipamentos\")\n",
    "plt.title(\"Temperatura do ambiente de Componentes Com Falha\")\n",
    "\n",
    "plt.show()"
   ]
  },
  {
   "cell_type": "code",
   "execution_count": 17,
   "id": "1389304f",
   "metadata": {},
   "outputs": [
    {
     "data": {
      "image/png": "[encoded data removed]",
      "text/plain": [
       "<Figure size 720x288 with 2 Axes>"
      ]
     },
     "metadata": {
      "needs_background": "light"
     },
     "output_type": "display_data"
    }
   ],
   "source": [
    "# Análise com base na variação de temperatura (ar x processo)\n",
    "ax = plt.figure(figsize=(10,4))\n",
    "\n",
    "# Total de componentes sem falha\n",
    "ax = plt.subplot(1,2,1)\n",
    "ax = plt.hist(df_temp_semfalha['Variação Temperatura'])\n",
    "plt.xlabel(\"Variação de Temperatura\")\n",
    "plt.ylabel(\"Quantidade Equipamentos\")\n",
    "plt.title(\"Variação de Temperatura de Componentes Sem Falha\")\n",
    "\n",
    "# Média de falhas por componente\n",
    "ax = plt.subplot(1,2,2)\n",
    "ax = plt.hist(df_temp_falha['Variação Temperatura'])\n",
    "plt.xlabel(\"Variação de Temperatura\")\n",
    "plt.ylabel(\"Quantidade Equipamentos\")\n",
    "plt.title(\"Variação de Temperatura de Componentes Com Falha\")\n",
    "\n",
    "plt.show()"
   ]
  },
  {
   "cell_type": "markdown",
   "id": "a4af110e",
   "metadata": {},
   "source": [
    "- Equipamentos sujeitos a maiores temperaturas tem mais falhas?\n",
    "\n",
    "**Sim, quando as temperaturas são superiores à 310K.**\n",
    "\n",
    "- Equipamentos que possuem maior diferença entre a temperatura do ar (ambiente) e temperatura de processo possuem mais falhas?\n",
    "\n",
    "**Não, componentes com diferença baixa possuem maior tendência.**"
   ]
  },
  {
   "cell_type": "markdown",
   "id": "21dd553c",
   "metadata": {},
   "source": [
    "### Torque e Velocidade de rotação\n",
    "- Essas duas variáveis tem relação com falhas?"
   ]
  },
  {
   "cell_type": "code",
   "execution_count": 18,
   "id": "efe56ae2",
   "metadata": {},
   "outputs": [
    {
     "data": {
      "image/png": "[encoded data removed]",
      "text/plain": [
       "<Figure size 576x288 with 1 Axes>"
      ]
     },
     "metadata": {
      "needs_background": "light"
     },
     "output_type": "display_data"
    }
   ],
   "source": [
    "# Relação entre Torque e Velocidade de Rotação em ocorrer uma falha\n",
    "plt.figure(figsize=(8,4))\n",
    "sns.scatterplot(x='Velocidade rotação [rpm]', y='Torque [Nm]', palette='Greens', hue='Falha', data=df_eda)\n",
    "\n",
    "plt.show()"
   ]
  },
  {
   "cell_type": "markdown",
   "id": "d0df370e",
   "metadata": {},
   "source": [
    "- Essas duas variáveis tem relação com falhas?\n",
    "\n",
    "**Sim. A maior parte das falhas ocorrem em componentes onde:**\n",
    "\n",
    "- Alta rotação e baixo torque;\n",
    "- Baixa rotação e alto torque."
   ]
  },
  {
   "cell_type": "markdown",
   "id": "0296df96",
   "metadata": {},
   "source": [
    "## Desenvolvendo o modelo ML"
   ]
  },
  {
   "cell_type": "markdown",
   "id": "be9e47f3",
   "metadata": {},
   "source": [
    "### Feature Engineering"
   ]
  },
  {
   "cell_type": "code",
   "execution_count": 19,
   "id": "4e3fd03f",
   "metadata": {
    "scrolled": true
   },
   "outputs": [
    {
     "data": {
      "text/html": [
       "<div>\n",
       "<style scoped>\n",
       "    .dataframe tbody tr th:only-of-type {\n",
       "        vertical-align: middle;\n",
       "    }\n",
       "\n",
       "    .dataframe tbody tr th {\n",
       "        vertical-align: top;\n",
       "    }\n",
       "\n",
       "    .dataframe thead th {\n",
       "        text-align: right;\n",
       "    }\n",
       "</style>\n",
       "<table border=\"1\" class=\"dataframe\">\n",
       "  <thead>\n",
       "    <tr style=\"text-align: right;\">\n",
       "      <th></th>\n",
       "      <th>ID Produto</th>\n",
       "      <th>Qualidade</th>\n",
       "      <th>Temperatura ar [K]</th>\n",
       "      <th>Temperatura processo [K]</th>\n",
       "      <th>Velocidade rotação [rpm]</th>\n",
       "      <th>Torque [Nm]</th>\n",
       "      <th>Desgaste [min]</th>\n",
       "      <th>Falha</th>\n",
       "      <th>Tipo falha</th>\n",
       "      <th>Variação Temperatura</th>\n",
       "    </tr>\n",
       "  </thead>\n",
       "  <tbody>\n",
       "    <tr>\n",
       "      <th>0</th>\n",
       "      <td>B57099</td>\n",
       "      <td>Baixa</td>\n",
       "      <td>298.5</td>\n",
       "      <td>308.8</td>\n",
       "      <td>1305.0</td>\n",
       "      <td>58.7</td>\n",
       "      <td>26.0</td>\n",
       "      <td>0.0</td>\n",
       "      <td>Sem falha</td>\n",
       "      <td>10.3</td>\n",
       "    </tr>\n",
       "    <tr>\n",
       "      <th>1</th>\n",
       "      <td>B50640</td>\n",
       "      <td>Baixa</td>\n",
       "      <td>301.5</td>\n",
       "      <td>310.3</td>\n",
       "      <td>1415.0</td>\n",
       "      <td>41.6</td>\n",
       "      <td>28.0</td>\n",
       "      <td>0.0</td>\n",
       "      <td>Sem falha</td>\n",
       "      <td>8.8</td>\n",
       "    </tr>\n",
       "    <tr>\n",
       "      <th>2</th>\n",
       "      <td>B55178</td>\n",
       "      <td>Baixa</td>\n",
       "      <td>300.9</td>\n",
       "      <td>312.1</td>\n",
       "      <td>1359.0</td>\n",
       "      <td>51.7</td>\n",
       "      <td>146.0</td>\n",
       "      <td>0.0</td>\n",
       "      <td>Sem falha</td>\n",
       "      <td>11.2</td>\n",
       "    </tr>\n",
       "    <tr>\n",
       "      <th>3</th>\n",
       "      <td>B51337</td>\n",
       "      <td>Baixa</td>\n",
       "      <td>302.0</td>\n",
       "      <td>310.5</td>\n",
       "      <td>1263.0</td>\n",
       "      <td>60.6</td>\n",
       "      <td>90.0</td>\n",
       "      <td>1.0</td>\n",
       "      <td>Superaquecimento</td>\n",
       "      <td>8.5</td>\n",
       "    </tr>\n",
       "    <tr>\n",
       "      <th>4</th>\n",
       "      <td>B56278</td>\n",
       "      <td>Baixa</td>\n",
       "      <td>297.3</td>\n",
       "      <td>308.1</td>\n",
       "      <td>1468.0</td>\n",
       "      <td>49.8</td>\n",
       "      <td>0.0</td>\n",
       "      <td>0.0</td>\n",
       "      <td>Sem falha</td>\n",
       "      <td>10.8</td>\n",
       "    </tr>\n",
       "  </tbody>\n",
       "</table>\n",
       "</div>"
      ],
      "text/plain": [
       "  ID Produto Qualidade  Temperatura ar [K]  Temperatura processo [K]  \\\n",
       "0     B57099     Baixa               298.5                     308.8   \n",
       "1     B50640     Baixa               301.5                     310.3   \n",
       "2     B55178     Baixa               300.9                     312.1   \n",
       "3     B51337     Baixa               302.0                     310.5   \n",
       "4     B56278     Baixa               297.3                     308.1   \n",
       "\n",
       "   Velocidade rotação [rpm]  Torque [Nm]  Desgaste [min]  Falha  \\\n",
       "0                    1305.0         58.7            26.0    0.0   \n",
       "1                    1415.0         41.6            28.0    0.0   \n",
       "2                    1359.0         51.7           146.0    0.0   \n",
       "3                    1263.0         60.6            90.0    1.0   \n",
       "4                    1468.0         49.8             0.0    0.0   \n",
       "\n",
       "         Tipo falha  Variação Temperatura  \n",
       "0         Sem falha                  10.3  \n",
       "1         Sem falha                   8.8  \n",
       "2         Sem falha                  11.2  \n",
       "3  Superaquecimento                   8.5  \n",
       "4         Sem falha                  10.8  "
      ]
     },
     "execution_count": 19,
     "metadata": {},
     "output_type": "execute_result"
    }
   ],
   "source": [
    "# Criação de novas colunas no dataset de treino\n",
    "df_treino['Variação Temperatura'] = df_treino['Temperatura processo [K]'] - df_treino['Temperatura ar [K]']\n",
    "\n",
    "df_treino.head()"
   ]
  },
  {
   "cell_type": "code",
   "execution_count": 20,
   "id": "46a9a75b",
   "metadata": {
    "scrolled": false
   },
   "outputs": [
    {
     "data": {
      "text/html": [
       "<div>\n",
       "<style scoped>\n",
       "    .dataframe tbody tr th:only-of-type {\n",
       "        vertical-align: middle;\n",
       "    }\n",
       "\n",
       "    .dataframe tbody tr th {\n",
       "        vertical-align: top;\n",
       "    }\n",
       "\n",
       "    .dataframe thead th {\n",
       "        text-align: right;\n",
       "    }\n",
       "</style>\n",
       "<table border=\"1\" class=\"dataframe\">\n",
       "  <thead>\n",
       "    <tr style=\"text-align: right;\">\n",
       "      <th></th>\n",
       "      <th>Alta</th>\n",
       "      <th>Baixa</th>\n",
       "      <th>Média</th>\n",
       "    </tr>\n",
       "  </thead>\n",
       "  <tbody>\n",
       "    <tr>\n",
       "      <th>0</th>\n",
       "      <td>0</td>\n",
       "      <td>1</td>\n",
       "      <td>0</td>\n",
       "    </tr>\n",
       "    <tr>\n",
       "      <th>1</th>\n",
       "      <td>0</td>\n",
       "      <td>1</td>\n",
       "      <td>0</td>\n",
       "    </tr>\n",
       "    <tr>\n",
       "      <th>2</th>\n",
       "      <td>0</td>\n",
       "      <td>1</td>\n",
       "      <td>0</td>\n",
       "    </tr>\n",
       "    <tr>\n",
       "      <th>3</th>\n",
       "      <td>0</td>\n",
       "      <td>1</td>\n",
       "      <td>0</td>\n",
       "    </tr>\n",
       "    <tr>\n",
       "      <th>4</th>\n",
       "      <td>0</td>\n",
       "      <td>1</td>\n",
       "      <td>0</td>\n",
       "    </tr>\n",
       "  </tbody>\n",
       "</table>\n",
       "</div>"
      ],
      "text/plain": [
       "   Alta  Baixa  Média\n",
       "0     0      1      0\n",
       "1     0      1      0\n",
       "2     0      1      0\n",
       "3     0      1      0\n",
       "4     0      1      0"
      ]
     },
     "execution_count": 20,
     "metadata": {},
     "output_type": "execute_result"
    }
   ],
   "source": [
    "# Manipulação de colunas para conversão de valores string para valores que o modelo compreenda\n",
    "dummy_treino = pd.get_dummies(df_treino['Qualidade'])\n",
    "\n",
    "dummy_treino.head()"
   ]
  },
  {
   "cell_type": "code",
   "execution_count": 30,
   "id": "e2a7a415",
   "metadata": {},
   "outputs": [],
   "source": [
    "# \n",
    "df_pbi = pd.concat([df_treino.drop(columns=['Tipo falha', 'Falha'], axis=1), dummy_treino], axis=1)\n",
    "\n",
    "#\n",
    "file_name = \"df_pbi.xlsx\"\n",
    "df_pbi.to_excel(file_name, index=False)"
   ]
  },
  {
   "cell_type": "code",
   "execution_count": 22,
   "id": "14a63bd3",
   "metadata": {},
   "outputs": [],
   "source": [
    "#\n",
    "def pipeline(df):\n",
    "    df['Variação Temperatura'] = df['Temperatura processo [K]'] - df['Temperatura ar [K]']\n",
    "    \n",
    "    dummy = pd.get_dummies(df['Qualidade'])\n",
    "    df = pd.concat([df.drop('Qualidade', axis=1), dummy], axis=1)\n",
    "    \n",
    "    return df"
   ]
  },
  {
   "cell_type": "code",
   "execution_count": 23,
   "id": "324478d6",
   "metadata": {},
   "outputs": [
    {
     "data": {
      "text/html": [
       "<div>\n",
       "<style scoped>\n",
       "    .dataframe tbody tr th:only-of-type {\n",
       "        vertical-align: middle;\n",
       "    }\n",
       "\n",
       "    .dataframe tbody tr th {\n",
       "        vertical-align: top;\n",
       "    }\n",
       "\n",
       "    .dataframe thead th {\n",
       "        text-align: right;\n",
       "    }\n",
       "</style>\n",
       "<table border=\"1\" class=\"dataframe\">\n",
       "  <thead>\n",
       "    <tr style=\"text-align: right;\">\n",
       "      <th></th>\n",
       "      <th>ID Produto</th>\n",
       "      <th>Temperatura ar [K]</th>\n",
       "      <th>Temperatura processo [K]</th>\n",
       "      <th>Velocidade rotação [rpm]</th>\n",
       "      <th>Torque [Nm]</th>\n",
       "      <th>Desgaste [min]</th>\n",
       "      <th>Falha</th>\n",
       "      <th>Tipo falha</th>\n",
       "      <th>Variação Temperatura</th>\n",
       "      <th>Alta</th>\n",
       "      <th>Baixa</th>\n",
       "      <th>Média</th>\n",
       "    </tr>\n",
       "  </thead>\n",
       "  <tbody>\n",
       "    <tr>\n",
       "      <th>0</th>\n",
       "      <td>B57099</td>\n",
       "      <td>298.5</td>\n",
       "      <td>308.8</td>\n",
       "      <td>1305.0</td>\n",
       "      <td>58.7</td>\n",
       "      <td>26.0</td>\n",
       "      <td>0.0</td>\n",
       "      <td>Sem falha</td>\n",
       "      <td>10.3</td>\n",
       "      <td>0</td>\n",
       "      <td>1</td>\n",
       "      <td>0</td>\n",
       "    </tr>\n",
       "    <tr>\n",
       "      <th>1</th>\n",
       "      <td>B50640</td>\n",
       "      <td>301.5</td>\n",
       "      <td>310.3</td>\n",
       "      <td>1415.0</td>\n",
       "      <td>41.6</td>\n",
       "      <td>28.0</td>\n",
       "      <td>0.0</td>\n",
       "      <td>Sem falha</td>\n",
       "      <td>8.8</td>\n",
       "      <td>0</td>\n",
       "      <td>1</td>\n",
       "      <td>0</td>\n",
       "    </tr>\n",
       "    <tr>\n",
       "      <th>2</th>\n",
       "      <td>B55178</td>\n",
       "      <td>300.9</td>\n",
       "      <td>312.1</td>\n",
       "      <td>1359.0</td>\n",
       "      <td>51.7</td>\n",
       "      <td>146.0</td>\n",
       "      <td>0.0</td>\n",
       "      <td>Sem falha</td>\n",
       "      <td>11.2</td>\n",
       "      <td>0</td>\n",
       "      <td>1</td>\n",
       "      <td>0</td>\n",
       "    </tr>\n",
       "    <tr>\n",
       "      <th>3</th>\n",
       "      <td>B51337</td>\n",
       "      <td>302.0</td>\n",
       "      <td>310.5</td>\n",
       "      <td>1263.0</td>\n",
       "      <td>60.6</td>\n",
       "      <td>90.0</td>\n",
       "      <td>1.0</td>\n",
       "      <td>Superaquecimento</td>\n",
       "      <td>8.5</td>\n",
       "      <td>0</td>\n",
       "      <td>1</td>\n",
       "      <td>0</td>\n",
       "    </tr>\n",
       "    <tr>\n",
       "      <th>4</th>\n",
       "      <td>B56278</td>\n",
       "      <td>297.3</td>\n",
       "      <td>308.1</td>\n",
       "      <td>1468.0</td>\n",
       "      <td>49.8</td>\n",
       "      <td>0.0</td>\n",
       "      <td>0.0</td>\n",
       "      <td>Sem falha</td>\n",
       "      <td>10.8</td>\n",
       "      <td>0</td>\n",
       "      <td>1</td>\n",
       "      <td>0</td>\n",
       "    </tr>\n",
       "  </tbody>\n",
       "</table>\n",
       "</div>"
      ],
      "text/plain": [
       "  ID Produto  Temperatura ar [K]  Temperatura processo [K]  \\\n",
       "0     B57099               298.5                     308.8   \n",
       "1     B50640               301.5                     310.3   \n",
       "2     B55178               300.9                     312.1   \n",
       "3     B51337               302.0                     310.5   \n",
       "4     B56278               297.3                     308.1   \n",
       "\n",
       "   Velocidade rotação [rpm]  Torque [Nm]  Desgaste [min]  Falha  \\\n",
       "0                    1305.0         58.7            26.0    0.0   \n",
       "1                    1415.0         41.6            28.0    0.0   \n",
       "2                    1359.0         51.7           146.0    0.0   \n",
       "3                    1263.0         60.6            90.0    1.0   \n",
       "4                    1468.0         49.8             0.0    0.0   \n",
       "\n",
       "         Tipo falha  Variação Temperatura  Alta  Baixa  Média  \n",
       "0         Sem falha                  10.3     0      1      0  \n",
       "1         Sem falha                   8.8     0      1      0  \n",
       "2         Sem falha                  11.2     0      1      0  \n",
       "3  Superaquecimento                   8.5     0      1      0  \n",
       "4         Sem falha                  10.8     0      1      0  "
      ]
     },
     "execution_count": 23,
     "metadata": {},
     "output_type": "execute_result"
    }
   ],
   "source": [
    "#\n",
    "df_treino = pipeline(df_treino)\n",
    "df_teste = pipeline(df_teste)\n",
    "\n",
    "df_treino.head()"
   ]
  },
  {
   "cell_type": "code",
   "execution_count": 24,
   "id": "d0381c8f",
   "metadata": {},
   "outputs": [],
   "source": [
    "# Dropando as colunas onde o modelo não pode compreender os valores\n",
    "# Após a etapa de conversão desses valores para outros que o modelo compreenda\n",
    "cols_drop = ['ID Produto', 'Tipo falha', 'Falha']\n",
    "\n",
    "x_treino = df_treino.drop(columns = cols_drop)\n",
    "x_teste = df_teste.drop(columns = cols_drop)\n",
    "\n",
    "#\n",
    "y_treino = df_treino['Tipo falha']\n",
    "y_teste = df_teste['Tipo falha']"
   ]
  },
  {
   "cell_type": "code",
   "execution_count": 25,
   "id": "6d535768",
   "metadata": {},
   "outputs": [
    {
     "data": {
      "text/plain": [
       "array(['Sem falha', 'Sem falha', 'Sem falha', ..., 'Sem falha',\n",
       "       'Sem falha', 'Sem falha'], dtype=object)"
      ]
     },
     "execution_count": 25,
     "metadata": {},
     "output_type": "execute_result"
    }
   ],
   "source": [
    "# Modelo Random Forest\n",
    "forest = RandomForestClassifier(class_weight='balanced')\n",
    "forest.fit(x_treino, y_treino)\n",
    "\n",
    "forest.predict(x_teste)"
   ]
  },
  {
   "cell_type": "code",
   "execution_count": 26,
   "id": "1cc2918b",
   "metadata": {},
   "outputs": [
    {
     "data": {
      "text/plain": [
       "0.9523050208344309"
      ]
     },
     "execution_count": 26,
     "metadata": {},
     "output_type": "execute_result"
    }
   ],
   "source": [
    "# Calculando a precisão do modelo Random Forest\n",
    "y_proba = forest.predict_proba(x_teste)\n",
    "\n",
    "roc_auc_score(y_teste, y_proba, multi_class = 'ovo', average='weighted')"
   ]
  },
  {
   "cell_type": "code",
   "execution_count": 27,
   "id": "8fed3382",
   "metadata": {},
   "outputs": [
    {
     "data": {
      "text/plain": [
       "array(['Sem falha', 'Sem falha', 'Sem falha', ..., 'Sem falha',\n",
       "       'Sem falha', 'Sem falha'], dtype=object)"
      ]
     },
     "execution_count": 27,
     "metadata": {},
     "output_type": "execute_result"
    }
   ],
   "source": [
    "# Modelo KNN\n",
    "knn = KNeighborsClassifier()\n",
    "knn.fit(x_treino, y_treino)\n",
    "\n",
    "knn.predict(x_teste)"
   ]
  },
  {
   "cell_type": "code",
   "execution_count": 28,
   "id": "6c3f33df",
   "metadata": {},
   "outputs": [
    {
     "data": {
      "text/plain": [
       "0.7648615314165327"
      ]
     },
     "execution_count": 28,
     "metadata": {},
     "output_type": "execute_result"
    }
   ],
   "source": [
    "# Calculando a precisão do modelo KNN\n",
    "y_proba = knn.predict_proba(x_teste)\n",
    "\n",
    "roc_auc_score(y_teste, y_proba, multi_class = 'ovo', average='weighted')"
   ]
  },
  {
   "cell_type": "markdown",
   "id": "6764f3e3",
   "metadata": {},
   "source": [
    "### Avaliação dos modelos\n",
    "**RandomForest = 94,175%**\n",
    "\n",
    "**KNN = 76,486%**\n",
    "\n",
    "Modelo com maior performance é o **Random Forest**."
   ]
  },
  {
   "cell_type": "markdown",
   "id": "7decb4f0",
   "metadata": {},
   "source": [
    "## Criar um dashboard em Power BI\n",
    "- Conversão de relatório em .sav\n",
    "- Conversão de relatório em .xlsx para criar o dashboard em Power BI"
   ]
  },
  {
   "cell_type": "code",
   "execution_count": 29,
   "id": "b9dbbcd8",
   "metadata": {},
   "outputs": [],
   "source": [
    "filename = 'modelo-treinado.sav'\n",
    "pickle.dump(forest, open(filename, 'wb'))"
   ]
  },
  {
   "cell_type": "code",
   "execution_count": null,
   "id": "70663e83",
   "metadata": {},
   "outputs": [],
   "source": []
  }
 ],
 "metadata": {
  "kernelspec": {
   "display_name": "Python 3 (ipykernel)",
   "language": "python",
   "name": "python3"
  },
  "language_info": {
   "codemirror_mode": {
    "name": "ipython",
    "version": 3
   },
   "file_extension": ".py",
   "mimetype": "text/x-python",
   "name": "python",
   "nbconvert_exporter": "python",
   "pygments_lexer": "ipython3",
   "version": "3.9.7"
  }
 },
 "nbformat": 4,
 "nbformat_minor": 5
}
